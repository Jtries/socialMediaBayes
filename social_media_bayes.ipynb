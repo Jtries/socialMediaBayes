{
 "cells": [
  {
   "cell_type": "markdown",
   "metadata": {},
   "source": [
    "# Time-Stealed, or how social medias are stealing our lives\n",
    "\n",
    "\"Year 2025, a great portion of our lives is experienced within a virtual environment where we can access an infinite stream of information that excites our brain and that pleasures it with rivers of dopamine. The speed, the bright colors, the catchy audios and the enraging news, everything has been carefully engineered to keep us trapped in front of a glowy screen\"\n",
    "\n",
    "Told like this it might sound like the incipit of a cyberpunk novel, but it's actually not that far from our reality, is it? The virtual environments I'm talking about are obviously social medias, that despite all they've done for the free circulation of information, they have a scary dark side.\n",
    "\n",
    "The aim of this project is to shed a light on that side and investigate where does our time go and why it seems so difficult to put a stop to a now far too common habbit: doomscrolling.\n",
    "\n",
    "But why should social medias be implemented to keep us on their platforms? To understand this, it's important to clarify what is their business model. Social medias' profit originates primarely from the \"attention economy\", in other words, they make money by showing tertiary companies' adds to their user base (and by selling their data, but that is a whole other story). So, when the content you're consuming is suddently interrupted by an add, the attention economy has completed its circle: a company made its attempt to convince you to buy their product and the hosting platform made its share. The follow-up question is then, how does the social media of the situation boosts its revenue? Simple, it tries to maximise the exposure time and the engagement of the user. And how does it do it? With a plethora of sophisticated [psychological tricks](https://www.youtube.com/watch?v=uaaC57tcci0) that hook the user's attention for [hours](https://www.statista.com/statistics/433871/daily-social-media-usage-worldwide/) on end."
   ]
  },
  {
   "cell_type": "markdown",
   "metadata": {},
   "source": [
    "## 1. The dataset\n",
    "This project leverages bayesian networks to extract interesting patterns from the dataset [Dark Side Of Social Media](https://www.kaggle.com/datasets/muhammadroshaanriaz/time-wasters-on-social-media?resource=download). This dataset has been generated via synthetic data generation tecniques to simulate real-world social media usage patterns (read the [EDA](https://www.kaggle.com/code/waqi786/in-depth-analysis-of-time-wasters-on-social-media) for further details)."
   ]
  },
  {
   "cell_type": "code",
   "execution_count": null,
   "metadata": {},
   "outputs": [],
   "source": [
    "import pandas as pd\n",
    "import networkx as nx\n",
    "import matplotlib.pyplot as plt\n",
    "from pgmpy.models import DiscreteBayesianNetwork\n",
    "from pgmpy.inference import VariableElimination\n",
    "from pgmpy.factors.discrete import TabularCPD"
   ]
  },
  {
   "cell_type": "code",
   "execution_count": null,
   "metadata": {},
   "outputs": [],
   "source": [
    "# Loads and previews the dataset and its shape\n",
    "data = pd.read_csv('Time-Wasters on Social Media.csv', delimiter=',')\n",
    "print(f'Shape: {data.shape}')\n",
    "data.head()"
   ]
  },
  {
   "cell_type": "markdown",
   "metadata": {},
   "source": [
    "## 2. The bayesian network"
   ]
  },
  {
   "cell_type": "markdown",
   "metadata": {},
   "source": [
    "### 1.1 The variables\n",
    "The dataset contains many variables spanning from the characteristics of the users to the features of their device. However, for the purpose of this project - which focuses on the time spent on social medias due to their addictive traits - only 8 out of 31 columns have been selected. Here is a brief descriprion of them:\n",
    "\n",
    "- Reason: the reason why the users entered the platform. It's interesting because it represents the initial emotional state of the users and what they wish to get out of their social media consumption\n",
    "\n",
    "- Platform: the social media platform used by the users. It's interesting because each platform has its unique features and implementation\n",
    "\n",
    "- Importance: the importance assigned by the users to the content. It's interesting because it returns relevant information about the cost/benefit tradeoff accepted by the users\n",
    "\n",
    "- Intentionality: the level of intentionality of the users when they decided to enter the platform. Originally called \"self_control\", it's interesting because it's one of the behavioural traits that the study wishes to capture\n",
    "\n",
    "- Engagement: the engagement level of the users with the content. It's interesting because it quantifies the degree of activity/passivity of the content consumption experience\n",
    "\n",
    "- Context-Switch: how quickly the users switch from one piece of content to the next. Originally called \"Scroll-Rate\", it's interesting because it tells about the width of the users' attention span\n",
    "\n",
    "- Time: the total amount of time that the users have spent on the platform. It's the most interesting aspect of the study given that it's the \"price\" of social media consumption\n",
    "\n",
    "- Satisfaction: the satisfaction level of the users at the end of the content consumption. It's interesting because it returns relevant information about the cost/benefit tradeoff accepted by the users"
   ]
  },
  {
   "cell_type": "code",
   "execution_count": null,
   "metadata": {},
   "outputs": [],
   "source": [
    "# Selects only relevant columns and renames them for clarity\n",
    "selected_data = data[['Watch Reason', 'Platform', 'Importance Score', 'Self Control', 'Engagement', 'Scroll Rate', 'Total Time Spent', 'Satisfaction']]\n",
    "selected_data.columns = ['Reason', 'Platform', 'Importance', 'Intentionality', 'Engagement', 'Context-Switch', 'Time', 'Satisfaction']\n",
    "selected_data.index = data.UserID.values\n",
    "selected_data.head()"
   ]
  },
  {
   "cell_type": "markdown",
   "metadata": {},
   "source": [
    "### 1.2 The ordering\n",
    "The ordering of the variables has been obtained by organizing them in the following causality structure:\n",
    "\n",
    "|       | A             | B              | C             | D              |\n",
    "| ----- | ------------- | -------------- | ------------- | -------------- |\n",
    "| **1** | Reason        | Platform       |               |                |\n",
    "| **2** | Importance    | Intentionality | Engagement    | Context-Switch |\n",
    "| **3** | Time          | Satisfaction   |               |                |\n",
    "\n",
    "Variables in 1 initiate the session, those 2 define it and those in 3 represent the user experience at the end of it. Specifically, we can say that users choose the platform according to the reason that motivates them to enter the social media space. Depending on the importance of their session, they are more or less intentional with their consumption which effects their engagement and their context-switch. All the previous variables impact the time spent on the platform and the satisfaction associated to the experience.\n",
    "\n",
    "Ordering: Reason -> Platform -> Importance -> Intentionality -> Engagement -> Context-Switch -> Time -> Satisfaction"
   ]
  },
  {
   "cell_type": "markdown",
   "metadata": {},
   "source": [
    "### 1.3 The structure\n",
    "To build a Bayesian Network, variables are inserted one by one following an ordering. At each step, a link between the new variable and the old ones can be added according to a specific criterion. For this Bayesian Network the following logic-driven approach has been applied: \n",
    "\n",
    "- Addition of Reason\n",
    "- Addition of Platform\n",
    "    - Reason -> Platform: the platform chosen for the session depends on the reason that initiated it as different platforms might be chosen for different reasons\n",
    "- Addition of Importance\n",
    "    - Reason -> Importance: the importance of the session depends on the reason that initiated it, for ex: the educational purpose might be considered more important that the procrastination one\n",
    "- Addition of Intentionality\n",
    "    - Reason -> Intentionality: the intentionality of the session depends on the reason that initiated it, for ex: if the session started as a habit, then the intentionality might be low, whereas if it started to communicate with someone, then it might be high\n",
    "    - Platform -> Intentionality: the intentionality of the session depends on the platform as certain platforms are more addictive than others\n",
    "- Addition of Engagement\n",
    "    - Reason -> Engagement: the engagement of the session depends on the reason that initiated it, for ex: if the session started for boredom, then the engagement might be low, whereas if it started for entertainment, then it might be high\n",
    "- Addition of Context-Switch\n",
    "    - Platform -> Context-Switch: the context-switch level of the session depends on the chosen platform as certain platforms host short pieces of content while others longer ones\n",
    "    - Engagement -> Context-Switch: the context-switch level of the session depends on the engagement because the more the users are engaged with a certain piece of content the less they context-switch, and vice-versa\n",
    "- Addition of Time\n",
    "    - Intentionality -> Time: the time spent on the platform depends on the intentionality as an intentional session might be more efficient than an unintentional one\n",
    "- Addition of Satisfaction\n",
    "    - Importance -> Satisfaction, Time -> Satisfaction: the satisfaction associated to the session depends on the ratio between its importance and its duration"
   ]
  },
  {
   "cell_type": "code",
   "execution_count": null,
   "metadata": {},
   "outputs": [],
   "source": [
    "# TODO The prior probability can be computed directly on the data, positive cases / possible cases\n",
    "\n",
    "# Defines the BN\n",
    "logic_diven_model = DiscreteBayesianNetwork([\n",
    "    ('Reason', 'Platform'),\n",
    "    ('Reason', 'Importance'),\n",
    "    ('Reason', 'Intentionality'),\n",
    "    ('Reason', 'Engagement'),\n",
    "    ('Platform', 'Intentionality'),\n",
    "    ('Platform', 'Context-Switch'),\n",
    "    ('Importance', 'Satisfaction'),\n",
    "    ('Intentionality', 'Time'),\n",
    "    ('Engagement', 'Context-Switch'),\n",
    "    ('Time', 'Satisfaction')\n",
    "])\n",
    "\n",
    "# Fits the data into the BN to learn the CPTs (a CPT is a table that specifies the probability of each value of a variable for every combination of values of its parents)\n",
    "logic_diven_model.cpds = []\n",
    "logic_diven_model.fit(selected_data)\n",
    "\n",
    "# Prints the CPTs\n",
    "for cpd in logic_diven_model.get_cpds():\n",
    "    print('CPT of {}'.format(cpd.variable))\n",
    "    print(cpd, '\\n')"
   ]
  },
  {
   "cell_type": "code",
   "execution_count": null,
   "metadata": {},
   "outputs": [],
   "source": [
    "# Visualises the BN\n",
    "plt.figure(figsize=(12, 7))\n",
    "nx.draw_circular(logic_diven_model, node_color='b', node_size=6000, with_labels=True, font_color='w', font_size=9)\n",
    "plt.show()"
   ]
  },
  {
   "cell_type": "markdown",
   "metadata": {},
   "source": [
    "$$P(R,P,Im,In,E,C,T,S) = P(R)P(P|R)P(Im|R)P(In|R,P)P(E|R)P(C|P,E)P(T|In)P(S|Im,T)"
   ]
  },
  {
   "cell_type": "markdown",
   "metadata": {},
   "source": [
    "## 3. The inferences\n",
    "\n",
    "The inferences will investigate low/high levels of *place_holder*, so it is necessary to define some thresholds:\n",
    "\n",
    "- Important session: > 5 (assuming the scale is 1-10)\n",
    "- High intentionality: > 5 (assuming the scale is 1-10)\n",
    "- High engagement: > 500 (assuming the scale is 1-1000)\n",
    "- High context-switch: > 50 (assuming the scale is 1-100)\n",
    "- Long session: > 30 (assuming min as the unit of measurement)\n",
    "- High satisfaction: > 5 (assuming the scale is 1-10)\n",
    "\n",
    "Assumptions on scales and units of measurement are necessary as the dataset description lacks the needed details. However, it was possible to extract the following information about the domains of the variables:"
   ]
  },
  {
   "cell_type": "code",
   "execution_count": null,
   "metadata": {},
   "outputs": [],
   "source": [
    "# Prints the domain of each variable:\n",
    "for c in selected_data.columns:\n",
    "    domain = selected_data[c].unique()\n",
    "    if domain.dtype == \"int64\":\n",
    "        print(f\"Domain of {c}: [min: {domain.min()}, max: {domain.max()}]\")\n",
    "    else:\n",
    "        print(f\"Domain of {c}: {domain}\")"
   ]
  },
  {
   "cell_type": "code",
   "execution_count": null,
   "metadata": {},
   "outputs": [],
   "source": [
    "variable_eliminator = VariableElimination(logic_diven_model)"
   ]
  },
  {
   "cell_type": "markdown",
   "metadata": {},
   "source": [
    "### 2.1 Investigations on Time\n",
    "\n",
    "- What is the probability that a low level of intentionality leads to a long session?"
   ]
  },
  {
   "cell_type": "code",
   "execution_count": null,
   "metadata": {},
   "outputs": [],
   "source": [
    "# TODO understand how variable elimination works and implement the needed functions"
   ]
  },
  {
   "cell_type": "markdown",
   "metadata": {},
   "source": []
  },
  {
   "cell_type": "markdown",
   "metadata": {},
   "source": [
    "- What is the probability that a session motivated by habit is a long session?"
   ]
  },
  {
   "cell_type": "code",
   "execution_count": null,
   "metadata": {},
   "outputs": [],
   "source": [
    "time_states = [t for t in logic_diven_model.states['Time'] if t > 30]\n",
    "# P(T|R='Reason')\n",
    "probability_distribution_of_time_given_reason = variable_eliminator.query(variables=['Time'], evidence={'Reason':'Habit'}) \n",
    "result = 0\n",
    "for t in time_states:\n",
    "    # P(T=t|R='Habit')\n",
    "    result += probability_distribution_of_time_given_reason.get_value(**{'Time':t})\n",
    "print(f\"P(T>30|R='Habit'): {result}\")"
   ]
  },
  {
   "cell_type": "markdown",
   "metadata": {},
   "source": [
    "- What is the platform that retains the user for the longest? / What is the platform that is most likely to retain the user for a long time?"
   ]
  },
  {
   "cell_type": "code",
   "execution_count": null,
   "metadata": {},
   "outputs": [],
   "source": []
  },
  {
   "cell_type": "markdown",
   "metadata": {},
   "source": [
    "### 2.2 Investigations on Satisfaction\n",
    "\n",
    "- What is the probability that a long and shallow session leads to a low level of satisfaction?"
   ]
  },
  {
   "cell_type": "code",
   "execution_count": null,
   "metadata": {},
   "outputs": [],
   "source": []
  },
  {
   "cell_type": "markdown",
   "metadata": {},
   "source": [
    "- What is the reason that leads to the lowest level of satisfaction?"
   ]
  },
  {
   "cell_type": "code",
   "execution_count": null,
   "metadata": {},
   "outputs": [],
   "source": []
  },
  {
   "cell_type": "markdown",
   "metadata": {},
   "source": [
    "- What is the platform that leads to the lowest level of satisfaction?"
   ]
  },
  {
   "cell_type": "code",
   "execution_count": null,
   "metadata": {},
   "outputs": [],
   "source": []
  },
  {
   "cell_type": "markdown",
   "metadata": {},
   "source": [
    "### 2.3 Investigations on Intentionality\n",
    "\n",
    "- What is the probability that an engaging session was highly intentional?"
   ]
  },
  {
   "cell_type": "code",
   "execution_count": null,
   "metadata": {},
   "outputs": [],
   "source": []
  },
  {
   "cell_type": "markdown",
   "metadata": {},
   "source": [
    "- What is the reason that leads to the lowest level of intentionality?"
   ]
  },
  {
   "cell_type": "code",
   "execution_count": null,
   "metadata": {},
   "outputs": [],
   "source": []
  },
  {
   "cell_type": "markdown",
   "metadata": {},
   "source": [
    "- What is the most addictive platform?"
   ]
  },
  {
   "cell_type": "code",
   "execution_count": null,
   "metadata": {},
   "outputs": [],
   "source": []
  },
  {
   "cell_type": "markdown",
   "metadata": {},
   "source": [
    "### 2.4 Investigations on Context-switch\n",
    "\n",
    "- What is the probability that a low level of engagement leads to a high level of context-switch?"
   ]
  },
  {
   "cell_type": "code",
   "execution_count": null,
   "metadata": {},
   "outputs": [],
   "source": []
  },
  {
   "cell_type": "markdown",
   "metadata": {},
   "source": [
    "- What is the reason that leads to the highest level of context-switch?"
   ]
  },
  {
   "cell_type": "code",
   "execution_count": null,
   "metadata": {},
   "outputs": [],
   "source": []
  },
  {
   "cell_type": "markdown",
   "metadata": {},
   "source": [
    "- What is the platform related to the highest level of context-switch?"
   ]
  },
  {
   "cell_type": "code",
   "execution_count": null,
   "metadata": {},
   "outputs": [],
   "source": []
  },
  {
   "cell_type": "markdown",
   "metadata": {},
   "source": [
    "## 4. The conclusions"
   ]
  },
  {
   "cell_type": "markdown",
   "metadata": {},
   "source": [
    "- find other topics to test"
   ]
  },
  {
   "cell_type": "markdown",
   "metadata": {},
   "source": [
    "Two structures have been defined for the Bayesian Network: one has been build with a logic-driven approach while the other has been derived with a data-driven one. Both approaches insert variables one by one following the previously defined ordering, what changes is the criterion with which a link is added (or not) between the new variable and the old ones.\n",
    "The reasoning behind this approach is the following:\n",
    "\n",
    "To build a Bayesian Network, variables are inserted one by one following an ordering. At each step, a link between the new variable and the old ones can be added according to a specific criterion. For this Bayesian Network, a data-driven approach has been discarded as the selected variables are totally intertwined with eachother. Instead,the following logic-driven approach has been applied: "
   ]
  }
 ],
 "metadata": {
  "kernelspec": {
   "display_name": ".venv",
   "language": "python",
   "name": "python3"
  },
  "language_info": {
   "codemirror_mode": {
    "name": "ipython",
    "version": 3
   },
   "file_extension": ".py",
   "mimetype": "text/x-python",
   "name": "python",
   "nbconvert_exporter": "python",
   "pygments_lexer": "ipython3",
   "version": "3.12.3"
  }
 },
 "nbformat": 4,
 "nbformat_minor": 2
}
